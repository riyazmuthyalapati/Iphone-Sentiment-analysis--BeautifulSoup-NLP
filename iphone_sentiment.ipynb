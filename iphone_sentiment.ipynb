{
 "cells": [
  {
   "cell_type": "code",
   "execution_count": 1,
   "id": "d38caf14",
   "metadata": {},
   "outputs": [],
   "source": [
    "import pandas as pd\n",
    "import re\n",
    "import nltk\n",
    "import string"
   ]
  },
  {
   "cell_type": "code",
   "execution_count": 2,
   "id": "4a1668e7",
   "metadata": {},
   "outputs": [],
   "source": [
    "df = pd.read_csv(\"Amazon_reviews_iphone.csv\")"
   ]
  },
  {
   "cell_type": "code",
   "execution_count": 3,
   "id": "0cf831bc",
   "metadata": {},
   "outputs": [
    {
     "data": {
      "text/html": [
       "<div>\n",
       "<style scoped>\n",
       "    .dataframe tbody tr th:only-of-type {\n",
       "        vertical-align: middle;\n",
       "    }\n",
       "\n",
       "    .dataframe tbody tr th {\n",
       "        vertical-align: top;\n",
       "    }\n",
       "\n",
       "    .dataframe thead th {\n",
       "        text-align: right;\n",
       "    }\n",
       "</style>\n",
       "<table border=\"1\" class=\"dataframe\">\n",
       "  <thead>\n",
       "    <tr style=\"text-align: right;\">\n",
       "      <th></th>\n",
       "      <th>product</th>\n",
       "      <th>title</th>\n",
       "      <th>rating</th>\n",
       "      <th>body</th>\n",
       "    </tr>\n",
       "  </thead>\n",
       "  <tbody>\n",
       "    <tr>\n",
       "      <th>0</th>\n",
       "      <td>Apple iPhone 12 (128GB) - Blue</td>\n",
       "      <td>Kidney as a load balancer</td>\n",
       "      <td>4.0</td>\n",
       "      <td>Sold kidney bought this, now not feeling well ...</td>\n",
       "    </tr>\n",
       "    <tr>\n",
       "      <th>1</th>\n",
       "      <td>Apple iPhone 12 (128GB) - Blue</td>\n",
       "      <td>Worst battery</td>\n",
       "      <td>3.0</td>\n",
       "      <td>Worst battery performance.Iphone 11 is far bet...</td>\n",
       "    </tr>\n",
       "    <tr>\n",
       "      <th>2</th>\n",
       "      <td>Apple iPhone 12 (128GB) - Blue</td>\n",
       "      <td>Another Fabulous IPhone ( IPhone 12, Blue 64GB)</td>\n",
       "      <td>5.0</td>\n",
       "      <td>The media could not be loaded.\\n              ...</td>\n",
       "    </tr>\n",
       "    <tr>\n",
       "      <th>3</th>\n",
       "      <td>Apple iPhone 12 (128GB) - Blue</td>\n",
       "      <td>This phone is a joke and the joke is on us!!! ...</td>\n",
       "      <td>1.0</td>\n",
       "      <td>Extremely disappointed with this phone. It’s a...</td>\n",
       "    </tr>\n",
       "    <tr>\n",
       "      <th>4</th>\n",
       "      <td>Apple iPhone 12 (128GB) - Blue</td>\n",
       "      <td>The Beast</td>\n",
       "      <td>5.0</td>\n",
       "      <td>This was my first switch to an ios device afte...</td>\n",
       "    </tr>\n",
       "  </tbody>\n",
       "</table>\n",
       "</div>"
      ],
      "text/plain": [
       "                          product  \\\n",
       "0  Apple iPhone 12 (128GB) - Blue   \n",
       "1  Apple iPhone 12 (128GB) - Blue   \n",
       "2  Apple iPhone 12 (128GB) - Blue   \n",
       "3  Apple iPhone 12 (128GB) - Blue   \n",
       "4  Apple iPhone 12 (128GB) - Blue   \n",
       "\n",
       "                                               title  rating  \\\n",
       "0                          Kidney as a load balancer     4.0   \n",
       "1                                      Worst battery     3.0   \n",
       "2    Another Fabulous IPhone ( IPhone 12, Blue 64GB)     5.0   \n",
       "3  This phone is a joke and the joke is on us!!! ...     1.0   \n",
       "4                                          The Beast     5.0   \n",
       "\n",
       "                                                body  \n",
       "0  Sold kidney bought this, now not feeling well ...  \n",
       "1  Worst battery performance.Iphone 11 is far bet...  \n",
       "2  The media could not be loaded.\\n              ...  \n",
       "3  Extremely disappointed with this phone. It’s a...  \n",
       "4  This was my first switch to an ios device afte...  "
      ]
     },
     "execution_count": 3,
     "metadata": {},
     "output_type": "execute_result"
    }
   ],
   "source": [
    "df.head()"
   ]
  },
  {
   "cell_type": "code",
   "execution_count": 4,
   "id": "42d0feb9",
   "metadata": {},
   "outputs": [],
   "source": [
    "df.rename(columns={'body':'reviews'}, inplace=True)"
   ]
  },
  {
   "cell_type": "code",
   "execution_count": 5,
   "id": "7cfb5ac6",
   "metadata": {},
   "outputs": [
    {
     "data": {
      "text/html": [
       "<div>\n",
       "<style scoped>\n",
       "    .dataframe tbody tr th:only-of-type {\n",
       "        vertical-align: middle;\n",
       "    }\n",
       "\n",
       "    .dataframe tbody tr th {\n",
       "        vertical-align: top;\n",
       "    }\n",
       "\n",
       "    .dataframe thead th {\n",
       "        text-align: right;\n",
       "    }\n",
       "</style>\n",
       "<table border=\"1\" class=\"dataframe\">\n",
       "  <thead>\n",
       "    <tr style=\"text-align: right;\">\n",
       "      <th></th>\n",
       "      <th>product</th>\n",
       "      <th>title</th>\n",
       "      <th>rating</th>\n",
       "      <th>reviews</th>\n",
       "    </tr>\n",
       "  </thead>\n",
       "  <tbody>\n",
       "    <tr>\n",
       "      <th>0</th>\n",
       "      <td>Apple iPhone 12 (128GB) - Blue</td>\n",
       "      <td>Kidney as a load balancer</td>\n",
       "      <td>4.0</td>\n",
       "      <td>Sold kidney bought this, now not feeling well ...</td>\n",
       "    </tr>\n",
       "    <tr>\n",
       "      <th>1</th>\n",
       "      <td>Apple iPhone 12 (128GB) - Blue</td>\n",
       "      <td>Worst battery</td>\n",
       "      <td>3.0</td>\n",
       "      <td>Worst battery performance.Iphone 11 is far bet...</td>\n",
       "    </tr>\n",
       "    <tr>\n",
       "      <th>2</th>\n",
       "      <td>Apple iPhone 12 (128GB) - Blue</td>\n",
       "      <td>Another Fabulous IPhone ( IPhone 12, Blue 64GB)</td>\n",
       "      <td>5.0</td>\n",
       "      <td>The media could not be loaded.\\n              ...</td>\n",
       "    </tr>\n",
       "    <tr>\n",
       "      <th>3</th>\n",
       "      <td>Apple iPhone 12 (128GB) - Blue</td>\n",
       "      <td>This phone is a joke and the joke is on us!!! ...</td>\n",
       "      <td>1.0</td>\n",
       "      <td>Extremely disappointed with this phone. It’s a...</td>\n",
       "    </tr>\n",
       "    <tr>\n",
       "      <th>4</th>\n",
       "      <td>Apple iPhone 12 (128GB) - Blue</td>\n",
       "      <td>The Beast</td>\n",
       "      <td>5.0</td>\n",
       "      <td>This was my first switch to an ios device afte...</td>\n",
       "    </tr>\n",
       "  </tbody>\n",
       "</table>\n",
       "</div>"
      ],
      "text/plain": [
       "                          product  \\\n",
       "0  Apple iPhone 12 (128GB) - Blue   \n",
       "1  Apple iPhone 12 (128GB) - Blue   \n",
       "2  Apple iPhone 12 (128GB) - Blue   \n",
       "3  Apple iPhone 12 (128GB) - Blue   \n",
       "4  Apple iPhone 12 (128GB) - Blue   \n",
       "\n",
       "                                               title  rating  \\\n",
       "0                          Kidney as a load balancer     4.0   \n",
       "1                                      Worst battery     3.0   \n",
       "2    Another Fabulous IPhone ( IPhone 12, Blue 64GB)     5.0   \n",
       "3  This phone is a joke and the joke is on us!!! ...     1.0   \n",
       "4                                          The Beast     5.0   \n",
       "\n",
       "                                             reviews  \n",
       "0  Sold kidney bought this, now not feeling well ...  \n",
       "1  Worst battery performance.Iphone 11 is far bet...  \n",
       "2  The media could not be loaded.\\n              ...  \n",
       "3  Extremely disappointed with this phone. It’s a...  \n",
       "4  This was my first switch to an ios device afte...  "
      ]
     },
     "execution_count": 5,
     "metadata": {},
     "output_type": "execute_result"
    }
   ],
   "source": [
    "df.head()"
   ]
  },
  {
   "cell_type": "code",
   "execution_count": 6,
   "id": "2549b5d0",
   "metadata": {},
   "outputs": [
    {
     "data": {
      "text/plain": [
       "product     0\n",
       "title       2\n",
       "rating      0\n",
       "reviews    45\n",
       "dtype: int64"
      ]
     },
     "execution_count": 6,
     "metadata": {},
     "output_type": "execute_result"
    }
   ],
   "source": [
    "df.isnull().sum()"
   ]
  },
  {
   "cell_type": "code",
   "execution_count": 7,
   "id": "75559313",
   "metadata": {},
   "outputs": [
    {
     "data": {
      "text/html": [
       "<div>\n",
       "<style scoped>\n",
       "    .dataframe tbody tr th:only-of-type {\n",
       "        vertical-align: middle;\n",
       "    }\n",
       "\n",
       "    .dataframe tbody tr th {\n",
       "        vertical-align: top;\n",
       "    }\n",
       "\n",
       "    .dataframe thead th {\n",
       "        text-align: right;\n",
       "    }\n",
       "</style>\n",
       "<table border=\"1\" class=\"dataframe\">\n",
       "  <thead>\n",
       "    <tr style=\"text-align: right;\">\n",
       "      <th></th>\n",
       "      <th>product</th>\n",
       "      <th>title</th>\n",
       "      <th>rating</th>\n",
       "      <th>reviews</th>\n",
       "    </tr>\n",
       "  </thead>\n",
       "  <tbody>\n",
       "    <tr>\n",
       "      <th>74</th>\n",
       "      <td>Apple iPhone 12 (128GB) - Blue</td>\n",
       "      <td>My wife loves it!!</td>\n",
       "      <td>5.0</td>\n",
       "      <td>NaN</td>\n",
       "    </tr>\n",
       "    <tr>\n",
       "      <th>518</th>\n",
       "      <td>Apple iPhone 12 (128GB) - Blue</td>\n",
       "      <td>Amazing 👏</td>\n",
       "      <td>5.0</td>\n",
       "      <td>NaN</td>\n",
       "    </tr>\n",
       "    <tr>\n",
       "      <th>732</th>\n",
       "      <td>Apple iPhone 12 (128GB) - Blue</td>\n",
       "      <td>Mera Pehla phone iphone 12 experience excellent</td>\n",
       "      <td>5.0</td>\n",
       "      <td>NaN</td>\n",
       "    </tr>\n",
       "    <tr>\n",
       "      <th>737</th>\n",
       "      <td>Apple iPhone 12 (128GB) - Blue</td>\n",
       "      <td>It’s good, worth buying it</td>\n",
       "      <td>5.0</td>\n",
       "      <td>NaN</td>\n",
       "    </tr>\n",
       "    <tr>\n",
       "      <th>764</th>\n",
       "      <td>Apple iPhone 12 (128GB) - Blue</td>\n",
       "      <td>Awesome phone</td>\n",
       "      <td>5.0</td>\n",
       "      <td>NaN</td>\n",
       "    </tr>\n",
       "    <tr>\n",
       "      <th>810</th>\n",
       "      <td>Apple iPhone 12 (128GB) - Blue</td>\n",
       "      <td>Best iPhone ever</td>\n",
       "      <td>5.0</td>\n",
       "      <td>NaN</td>\n",
       "    </tr>\n",
       "    <tr>\n",
       "      <th>853</th>\n",
       "      <td>Apple iPhone 12 (128GB) - Blue</td>\n",
       "      <td>Amazing Phone</td>\n",
       "      <td>5.0</td>\n",
       "      <td>NaN</td>\n",
       "    </tr>\n",
       "    <tr>\n",
       "      <th>878</th>\n",
       "      <td>Apple iPhone 12 (128GB) - Blue</td>\n",
       "      <td>Worth it</td>\n",
       "      <td>4.0</td>\n",
       "      <td>NaN</td>\n",
       "    </tr>\n",
       "    <tr>\n",
       "      <th>882</th>\n",
       "      <td>Apple iPhone 12 (128GB) - Blue</td>\n",
       "      <td>Unique color 👌</td>\n",
       "      <td>5.0</td>\n",
       "      <td>NaN</td>\n",
       "    </tr>\n",
       "    <tr>\n",
       "      <th>883</th>\n",
       "      <td>Apple iPhone 12 (128GB) - Blue</td>\n",
       "      <td>Authentic product. It is a very good product. ...</td>\n",
       "      <td>5.0</td>\n",
       "      <td>NaN</td>\n",
       "    </tr>\n",
       "    <tr>\n",
       "      <th>887</th>\n",
       "      <td>Apple iPhone 12 (128GB) - Blue</td>\n",
       "      <td>Amazing</td>\n",
       "      <td>5.0</td>\n",
       "      <td>NaN</td>\n",
       "    </tr>\n",
       "    <tr>\n",
       "      <th>931</th>\n",
       "      <td>Apple iPhone 12 (128GB) - Blue</td>\n",
       "      <td>Best phone</td>\n",
       "      <td>5.0</td>\n",
       "      <td>NaN</td>\n",
       "    </tr>\n",
       "    <tr>\n",
       "      <th>945</th>\n",
       "      <td>Apple iPhone 12 (128GB) - Blue</td>\n",
       "      <td>Superb product you can go for it, the product ...</td>\n",
       "      <td>5.0</td>\n",
       "      <td>NaN</td>\n",
       "    </tr>\n",
       "    <tr>\n",
       "      <th>1019</th>\n",
       "      <td>Apple iPhone 12 (128GB) - Blue</td>\n",
       "      <td>Phone itself</td>\n",
       "      <td>4.0</td>\n",
       "      <td>NaN</td>\n",
       "    </tr>\n",
       "    <tr>\n",
       "      <th>1038</th>\n",
       "      <td>Apple iPhone 12 (128GB) - Blue</td>\n",
       "      <td>amazing product</td>\n",
       "      <td>5.0</td>\n",
       "      <td>NaN</td>\n",
       "    </tr>\n",
       "    <tr>\n",
       "      <th>1055</th>\n",
       "      <td>Apple iPhone 12 (128GB) - Blue</td>\n",
       "      <td>Very nice product but the camera is still not ...</td>\n",
       "      <td>4.0</td>\n",
       "      <td>NaN</td>\n",
       "    </tr>\n",
       "    <tr>\n",
       "      <th>1056</th>\n",
       "      <td>Apple iPhone 12 (128GB) - Blue</td>\n",
       "      <td>Amazing 🙌</td>\n",
       "      <td>5.0</td>\n",
       "      <td>NaN</td>\n",
       "    </tr>\n",
       "    <tr>\n",
       "      <th>1057</th>\n",
       "      <td>Apple iPhone 12 (128GB) - Blue</td>\n",
       "      <td>Such a good feel to get it</td>\n",
       "      <td>5.0</td>\n",
       "      <td>NaN</td>\n",
       "    </tr>\n",
       "    <tr>\n",
       "      <th>1063</th>\n",
       "      <td>Apple iPhone 12 (128GB) - Blue</td>\n",
       "      <td>Worth every Penny!!!</td>\n",
       "      <td>5.0</td>\n",
       "      <td>NaN</td>\n",
       "    </tr>\n",
       "    <tr>\n",
       "      <th>1095</th>\n",
       "      <td>Apple iPhone 12 (128GB) - Blue</td>\n",
       "      <td>Lovely</td>\n",
       "      <td>5.0</td>\n",
       "      <td>NaN</td>\n",
       "    </tr>\n",
       "    <tr>\n",
       "      <th>1096</th>\n",
       "      <td>Apple iPhone 12 (128GB) - Blue</td>\n",
       "      <td>Very light whait</td>\n",
       "      <td>5.0</td>\n",
       "      <td>NaN</td>\n",
       "    </tr>\n",
       "    <tr>\n",
       "      <th>1097</th>\n",
       "      <td>Apple iPhone 12 (128GB) - Blue</td>\n",
       "      <td>Best Flagship Smartphone</td>\n",
       "      <td>4.0</td>\n",
       "      <td>NaN</td>\n",
       "    </tr>\n",
       "    <tr>\n",
       "      <th>1098</th>\n",
       "      <td>Apple iPhone 12 (128GB) - Blue</td>\n",
       "      <td>Very good</td>\n",
       "      <td>5.0</td>\n",
       "      <td>NaN</td>\n",
       "    </tr>\n",
       "    <tr>\n",
       "      <th>1099</th>\n",
       "      <td>Apple iPhone 12 (128GB) - Blue</td>\n",
       "      <td>Excellent device</td>\n",
       "      <td>5.0</td>\n",
       "      <td>NaN</td>\n",
       "    </tr>\n",
       "    <tr>\n",
       "      <th>1100</th>\n",
       "      <td>Apple iPhone 12 (128GB) - Blue</td>\n",
       "      <td>O like it</td>\n",
       "      <td>5.0</td>\n",
       "      <td>NaN</td>\n",
       "    </tr>\n",
       "    <tr>\n",
       "      <th>1101</th>\n",
       "      <td>Apple iPhone 12 (128GB) - Blue</td>\n",
       "      <td>Awesome 👌</td>\n",
       "      <td>5.0</td>\n",
       "      <td>NaN</td>\n",
       "    </tr>\n",
       "    <tr>\n",
       "      <th>1102</th>\n",
       "      <td>Apple iPhone 12 (128GB) - Blue</td>\n",
       "      <td>Very good mobile</td>\n",
       "      <td>5.0</td>\n",
       "      <td>NaN</td>\n",
       "    </tr>\n",
       "    <tr>\n",
       "      <th>1103</th>\n",
       "      <td>Apple iPhone 12 (128GB) - Blue</td>\n",
       "      <td>Received the phone with scratches around the b...</td>\n",
       "      <td>1.0</td>\n",
       "      <td>NaN</td>\n",
       "    </tr>\n",
       "    <tr>\n",
       "      <th>1104</th>\n",
       "      <td>Apple iPhone 12 (128GB) - Blue</td>\n",
       "      <td>Nice product</td>\n",
       "      <td>5.0</td>\n",
       "      <td>NaN</td>\n",
       "    </tr>\n",
       "    <tr>\n",
       "      <th>1105</th>\n",
       "      <td>Apple iPhone 12 (128GB) - Blue</td>\n",
       "      <td>Nice phone</td>\n",
       "      <td>5.0</td>\n",
       "      <td>NaN</td>\n",
       "    </tr>\n",
       "    <tr>\n",
       "      <th>1106</th>\n",
       "      <td>Apple iPhone 12 (128GB) - Blue</td>\n",
       "      <td>with battery  not satisfied</td>\n",
       "      <td>4.0</td>\n",
       "      <td>NaN</td>\n",
       "    </tr>\n",
       "    <tr>\n",
       "      <th>1126</th>\n",
       "      <td>Apple iPhone 12 (128GB) - Blue</td>\n",
       "      <td>Camera</td>\n",
       "      <td>5.0</td>\n",
       "      <td>NaN</td>\n",
       "    </tr>\n",
       "    <tr>\n",
       "      <th>1137</th>\n",
       "      <td>Apple iPhone 12 (128GB) - Blue</td>\n",
       "      <td>Great Phone</td>\n",
       "      <td>5.0</td>\n",
       "      <td>NaN</td>\n",
       "    </tr>\n",
       "    <tr>\n",
       "      <th>1144</th>\n",
       "      <td>Apple iPhone 12 (128GB) - Blue</td>\n",
       "      <td>Good</td>\n",
       "      <td>5.0</td>\n",
       "      <td>NaN</td>\n",
       "    </tr>\n",
       "    <tr>\n",
       "      <th>1153</th>\n",
       "      <td>Apple iPhone 12 (128GB) - Blue</td>\n",
       "      <td>Worth the hype</td>\n",
       "      <td>5.0</td>\n",
       "      <td>NaN</td>\n",
       "    </tr>\n",
       "    <tr>\n",
       "      <th>1156</th>\n",
       "      <td>Apple iPhone 12 (128GB) - Blue</td>\n",
       "      <td>Best in all. Best camera, Decent battery, grea...</td>\n",
       "      <td>5.0</td>\n",
       "      <td>NaN</td>\n",
       "    </tr>\n",
       "    <tr>\n",
       "      <th>1160</th>\n",
       "      <td>Apple iPhone 12 (128GB) - Blue</td>\n",
       "      <td>NaN</td>\n",
       "      <td>4.0</td>\n",
       "      <td>NaN</td>\n",
       "    </tr>\n",
       "    <tr>\n",
       "      <th>1161</th>\n",
       "      <td>Apple iPhone 12 (128GB) - Blue</td>\n",
       "      <td>Overall well</td>\n",
       "      <td>4.0</td>\n",
       "      <td>NaN</td>\n",
       "    </tr>\n",
       "    <tr>\n",
       "      <th>1175</th>\n",
       "      <td>Apple iPhone 12 (128GB) - Blue</td>\n",
       "      <td>Delivered on time! And i am happy I bought thi...</td>\n",
       "      <td>5.0</td>\n",
       "      <td>NaN</td>\n",
       "    </tr>\n",
       "    <tr>\n",
       "      <th>1181</th>\n",
       "      <td>Apple iPhone 12 (128GB) - Blue</td>\n",
       "      <td>Best phone as per expections...white colur is ...</td>\n",
       "      <td>5.0</td>\n",
       "      <td>NaN</td>\n",
       "    </tr>\n",
       "    <tr>\n",
       "      <th>1200</th>\n",
       "      <td>Apple iPhone 12 (128GB) - Blue</td>\n",
       "      <td>Ok</td>\n",
       "      <td>3.0</td>\n",
       "      <td>NaN</td>\n",
       "    </tr>\n",
       "    <tr>\n",
       "      <th>1286</th>\n",
       "      <td>Apple iPhone 12 (128GB) - Blue</td>\n",
       "      <td>Superb</td>\n",
       "      <td>5.0</td>\n",
       "      <td>NaN</td>\n",
       "    </tr>\n",
       "    <tr>\n",
       "      <th>1391</th>\n",
       "      <td>Apple iPhone 12 (128GB) - Blue</td>\n",
       "      <td>Satisfactory</td>\n",
       "      <td>5.0</td>\n",
       "      <td>NaN</td>\n",
       "    </tr>\n",
       "    <tr>\n",
       "      <th>1392</th>\n",
       "      <td>Apple iPhone 12 (128GB) - Blue</td>\n",
       "      <td>Best smartphone ever in this price</td>\n",
       "      <td>5.0</td>\n",
       "      <td>NaN</td>\n",
       "    </tr>\n",
       "    <tr>\n",
       "      <th>1393</th>\n",
       "      <td>Apple iPhone 12 (128GB) - Blue</td>\n",
       "      <td>Color is super pretty, phone is really smooth!</td>\n",
       "      <td>4.0</td>\n",
       "      <td>NaN</td>\n",
       "    </tr>\n",
       "  </tbody>\n",
       "</table>\n",
       "</div>"
      ],
      "text/plain": [
       "                             product  \\\n",
       "74    Apple iPhone 12 (128GB) - Blue   \n",
       "518   Apple iPhone 12 (128GB) - Blue   \n",
       "732   Apple iPhone 12 (128GB) - Blue   \n",
       "737   Apple iPhone 12 (128GB) - Blue   \n",
       "764   Apple iPhone 12 (128GB) - Blue   \n",
       "810   Apple iPhone 12 (128GB) - Blue   \n",
       "853   Apple iPhone 12 (128GB) - Blue   \n",
       "878   Apple iPhone 12 (128GB) - Blue   \n",
       "882   Apple iPhone 12 (128GB) - Blue   \n",
       "883   Apple iPhone 12 (128GB) - Blue   \n",
       "887   Apple iPhone 12 (128GB) - Blue   \n",
       "931   Apple iPhone 12 (128GB) - Blue   \n",
       "945   Apple iPhone 12 (128GB) - Blue   \n",
       "1019  Apple iPhone 12 (128GB) - Blue   \n",
       "1038  Apple iPhone 12 (128GB) - Blue   \n",
       "1055  Apple iPhone 12 (128GB) - Blue   \n",
       "1056  Apple iPhone 12 (128GB) - Blue   \n",
       "1057  Apple iPhone 12 (128GB) - Blue   \n",
       "1063  Apple iPhone 12 (128GB) - Blue   \n",
       "1095  Apple iPhone 12 (128GB) - Blue   \n",
       "1096  Apple iPhone 12 (128GB) - Blue   \n",
       "1097  Apple iPhone 12 (128GB) - Blue   \n",
       "1098  Apple iPhone 12 (128GB) - Blue   \n",
       "1099  Apple iPhone 12 (128GB) - Blue   \n",
       "1100  Apple iPhone 12 (128GB) - Blue   \n",
       "1101  Apple iPhone 12 (128GB) - Blue   \n",
       "1102  Apple iPhone 12 (128GB) - Blue   \n",
       "1103  Apple iPhone 12 (128GB) - Blue   \n",
       "1104  Apple iPhone 12 (128GB) - Blue   \n",
       "1105  Apple iPhone 12 (128GB) - Blue   \n",
       "1106  Apple iPhone 12 (128GB) - Blue   \n",
       "1126  Apple iPhone 12 (128GB) - Blue   \n",
       "1137  Apple iPhone 12 (128GB) - Blue   \n",
       "1144  Apple iPhone 12 (128GB) - Blue   \n",
       "1153  Apple iPhone 12 (128GB) - Blue   \n",
       "1156  Apple iPhone 12 (128GB) - Blue   \n",
       "1160  Apple iPhone 12 (128GB) - Blue   \n",
       "1161  Apple iPhone 12 (128GB) - Blue   \n",
       "1175  Apple iPhone 12 (128GB) - Blue   \n",
       "1181  Apple iPhone 12 (128GB) - Blue   \n",
       "1200  Apple iPhone 12 (128GB) - Blue   \n",
       "1286  Apple iPhone 12 (128GB) - Blue   \n",
       "1391  Apple iPhone 12 (128GB) - Blue   \n",
       "1392  Apple iPhone 12 (128GB) - Blue   \n",
       "1393  Apple iPhone 12 (128GB) - Blue   \n",
       "\n",
       "                                                  title  rating reviews  \n",
       "74                                   My wife loves it!!     5.0     NaN  \n",
       "518                                           Amazing 👏     5.0     NaN  \n",
       "732     Mera Pehla phone iphone 12 experience excellent     5.0     NaN  \n",
       "737                          It’s good, worth buying it     5.0     NaN  \n",
       "764                                       Awesome phone     5.0     NaN  \n",
       "810                                    Best iPhone ever     5.0     NaN  \n",
       "853                                       Amazing Phone     5.0     NaN  \n",
       "878                                            Worth it     4.0     NaN  \n",
       "882                                      Unique color 👌     5.0     NaN  \n",
       "883   Authentic product. It is a very good product. ...     5.0     NaN  \n",
       "887                                             Amazing     5.0     NaN  \n",
       "931                                          Best phone     5.0     NaN  \n",
       "945   Superb product you can go for it, the product ...     5.0     NaN  \n",
       "1019                                       Phone itself     4.0     NaN  \n",
       "1038                                    amazing product     5.0     NaN  \n",
       "1055  Very nice product but the camera is still not ...     4.0     NaN  \n",
       "1056                                          Amazing 🙌     5.0     NaN  \n",
       "1057                         Such a good feel to get it     5.0     NaN  \n",
       "1063                               Worth every Penny!!!     5.0     NaN  \n",
       "1095                                             Lovely     5.0     NaN  \n",
       "1096                                   Very light whait     5.0     NaN  \n",
       "1097                           Best Flagship Smartphone     4.0     NaN  \n",
       "1098                                          Very good     5.0     NaN  \n",
       "1099                                   Excellent device     5.0     NaN  \n",
       "1100                                          O like it     5.0     NaN  \n",
       "1101                                          Awesome 👌     5.0     NaN  \n",
       "1102                                   Very good mobile     5.0     NaN  \n",
       "1103  Received the phone with scratches around the b...     1.0     NaN  \n",
       "1104                                       Nice product     5.0     NaN  \n",
       "1105                                         Nice phone     5.0     NaN  \n",
       "1106                        with battery  not satisfied     4.0     NaN  \n",
       "1126                                             Camera     5.0     NaN  \n",
       "1137                                        Great Phone     5.0     NaN  \n",
       "1144                                               Good     5.0     NaN  \n",
       "1153                                     Worth the hype     5.0     NaN  \n",
       "1156  Best in all. Best camera, Decent battery, grea...     5.0     NaN  \n",
       "1160                                                NaN     4.0     NaN  \n",
       "1161                                       Overall well     4.0     NaN  \n",
       "1175  Delivered on time! And i am happy I bought thi...     5.0     NaN  \n",
       "1181  Best phone as per expections...white colur is ...     5.0     NaN  \n",
       "1200                                                 Ok     3.0     NaN  \n",
       "1286                                             Superb     5.0     NaN  \n",
       "1391                                       Satisfactory     5.0     NaN  \n",
       "1392                 Best smartphone ever in this price     5.0     NaN  \n",
       "1393     Color is super pretty, phone is really smooth!     4.0     NaN  "
      ]
     },
     "execution_count": 7,
     "metadata": {},
     "output_type": "execute_result"
    }
   ],
   "source": [
    "df[df['reviews'].isnull()]"
   ]
  },
  {
   "cell_type": "code",
   "execution_count": 8,
   "id": "8aabaa63",
   "metadata": {},
   "outputs": [
    {
     "name": "stderr",
     "output_type": "stream",
     "text": [
      "<ipython-input-8-0e7cb1ac6a60>:3: SettingWithCopyWarning: \n",
      "A value is trying to be set on a copy of a slice from a DataFrame.\n",
      "Try using .loc[row_indexer,col_indexer] = value instead\n",
      "\n",
      "See the caveats in the documentation: https://pandas.pydata.org/pandas-docs/stable/user_guide/indexing.html#returning-a-view-versus-a-copy\n",
      "  new_df['reviews'] = new_df['reviews'].fillna('Great')\n"
     ]
    }
   ],
   "source": [
    "new_df = df[(df['reviews'].isnull()) & (df['rating']>4)]\n",
    "\n",
    "new_df['reviews'] = new_df['reviews'].fillna('Great')"
   ]
  },
  {
   "cell_type": "code",
   "execution_count": 9,
   "id": "8a5d1f4c",
   "metadata": {},
   "outputs": [
    {
     "name": "stderr",
     "output_type": "stream",
     "text": [
      "D:\\Apps\\lib\\site-packages\\pandas\\core\\frame.py:4308: SettingWithCopyWarning: \n",
      "A value is trying to be set on a copy of a slice from a DataFrame\n",
      "\n",
      "See the caveats in the documentation: https://pandas.pydata.org/pandas-docs/stable/user_guide/indexing.html#returning-a-view-versus-a-copy\n",
      "  return super().drop(\n"
     ]
    }
   ],
   "source": [
    "new_df.drop(columns ='product', axis = 'columns', inplace=True)"
   ]
  },
  {
   "cell_type": "code",
   "execution_count": 10,
   "id": "b64e447e",
   "metadata": {},
   "outputs": [
    {
     "data": {
      "text/html": [
       "<div>\n",
       "<style scoped>\n",
       "    .dataframe tbody tr th:only-of-type {\n",
       "        vertical-align: middle;\n",
       "    }\n",
       "\n",
       "    .dataframe tbody tr th {\n",
       "        vertical-align: top;\n",
       "    }\n",
       "\n",
       "    .dataframe thead th {\n",
       "        text-align: right;\n",
       "    }\n",
       "</style>\n",
       "<table border=\"1\" class=\"dataframe\">\n",
       "  <thead>\n",
       "    <tr style=\"text-align: right;\">\n",
       "      <th></th>\n",
       "      <th>title</th>\n",
       "      <th>rating</th>\n",
       "      <th>reviews</th>\n",
       "    </tr>\n",
       "  </thead>\n",
       "  <tbody>\n",
       "    <tr>\n",
       "      <th>74</th>\n",
       "      <td>My wife loves it!!</td>\n",
       "      <td>5.0</td>\n",
       "      <td>Great</td>\n",
       "    </tr>\n",
       "    <tr>\n",
       "      <th>518</th>\n",
       "      <td>Amazing 👏</td>\n",
       "      <td>5.0</td>\n",
       "      <td>Great</td>\n",
       "    </tr>\n",
       "    <tr>\n",
       "      <th>732</th>\n",
       "      <td>Mera Pehla phone iphone 12 experience excellent</td>\n",
       "      <td>5.0</td>\n",
       "      <td>Great</td>\n",
       "    </tr>\n",
       "    <tr>\n",
       "      <th>737</th>\n",
       "      <td>It’s good, worth buying it</td>\n",
       "      <td>5.0</td>\n",
       "      <td>Great</td>\n",
       "    </tr>\n",
       "    <tr>\n",
       "      <th>764</th>\n",
       "      <td>Awesome phone</td>\n",
       "      <td>5.0</td>\n",
       "      <td>Great</td>\n",
       "    </tr>\n",
       "  </tbody>\n",
       "</table>\n",
       "</div>"
      ],
      "text/plain": [
       "                                               title  rating reviews\n",
       "74                                My wife loves it!!     5.0   Great\n",
       "518                                        Amazing 👏     5.0   Great\n",
       "732  Mera Pehla phone iphone 12 experience excellent     5.0   Great\n",
       "737                       It’s good, worth buying it     5.0   Great\n",
       "764                                    Awesome phone     5.0   Great"
      ]
     },
     "execution_count": 10,
     "metadata": {},
     "output_type": "execute_result"
    }
   ],
   "source": [
    "new_df.head()"
   ]
  },
  {
   "cell_type": "code",
   "execution_count": 11,
   "id": "739fa7fa",
   "metadata": {},
   "outputs": [],
   "source": [
    "df.dropna(axis = 'rows', inplace = True)"
   ]
  },
  {
   "cell_type": "code",
   "execution_count": 12,
   "id": "c538b0f3",
   "metadata": {},
   "outputs": [
    {
     "data": {
      "text/plain": [
       "product    0\n",
       "title      0\n",
       "rating     0\n",
       "reviews    0\n",
       "dtype: int64"
      ]
     },
     "execution_count": 12,
     "metadata": {},
     "output_type": "execute_result"
    }
   ],
   "source": [
    "df.isnull().sum()"
   ]
  },
  {
   "cell_type": "code",
   "execution_count": 13,
   "id": "65cd8585",
   "metadata": {},
   "outputs": [
    {
     "data": {
      "text/plain": [
       "array(['Apple iPhone 12 (128GB) - Blue'], dtype=object)"
      ]
     },
     "execution_count": 13,
     "metadata": {},
     "output_type": "execute_result"
    }
   ],
   "source": [
    "#Checking how many unique values we have in the product feature\n",
    "df['product'].unique()\n",
    "\n",
    "#Since we only have one unique value in this feature we can go ahead and remove this feature as its varince is zero"
   ]
  },
  {
   "cell_type": "code",
   "execution_count": 14,
   "id": "4178400d",
   "metadata": {},
   "outputs": [],
   "source": [
    "df.drop(columns ='product', axis = 'columns', inplace=True)"
   ]
  },
  {
   "cell_type": "code",
   "execution_count": 15,
   "id": "21547f34",
   "metadata": {},
   "outputs": [],
   "source": [
    "df = pd.concat([df,new_df], ignore_index=True)"
   ]
  },
  {
   "cell_type": "code",
   "execution_count": 16,
   "id": "0962774a",
   "metadata": {},
   "outputs": [
    {
     "data": {
      "text/html": [
       "<div>\n",
       "<style scoped>\n",
       "    .dataframe tbody tr th:only-of-type {\n",
       "        vertical-align: middle;\n",
       "    }\n",
       "\n",
       "    .dataframe tbody tr th {\n",
       "        vertical-align: top;\n",
       "    }\n",
       "\n",
       "    .dataframe thead th {\n",
       "        text-align: right;\n",
       "    }\n",
       "</style>\n",
       "<table border=\"1\" class=\"dataframe\">\n",
       "  <thead>\n",
       "    <tr style=\"text-align: right;\">\n",
       "      <th></th>\n",
       "      <th>title</th>\n",
       "      <th>rating</th>\n",
       "      <th>reviews</th>\n",
       "    </tr>\n",
       "  </thead>\n",
       "  <tbody>\n",
       "    <tr>\n",
       "      <th>0</th>\n",
       "      <td>kidney as a load balancer</td>\n",
       "      <td>4.0</td>\n",
       "      <td>sold kidney bought this, now not feeling well ...</td>\n",
       "    </tr>\n",
       "    <tr>\n",
       "      <th>1</th>\n",
       "      <td>worst battery</td>\n",
       "      <td>3.0</td>\n",
       "      <td>worst battery performance.iphone 11 is far bet...</td>\n",
       "    </tr>\n",
       "    <tr>\n",
       "      <th>2</th>\n",
       "      <td>another fabulous iphone ( iphone 12, blue 64gb)</td>\n",
       "      <td>5.0</td>\n",
       "      <td>the media could not be loaded.\\n              ...</td>\n",
       "    </tr>\n",
       "    <tr>\n",
       "      <th>3</th>\n",
       "      <td>this phone is a joke and the joke is on us!!! ...</td>\n",
       "      <td>1.0</td>\n",
       "      <td>extremely disappointed with this phone. it’s a...</td>\n",
       "    </tr>\n",
       "    <tr>\n",
       "      <th>4</th>\n",
       "      <td>the beast</td>\n",
       "      <td>5.0</td>\n",
       "      <td>this was my first switch to an ios device afte...</td>\n",
       "    </tr>\n",
       "    <tr>\n",
       "      <th>...</th>\n",
       "      <td>...</td>\n",
       "      <td>...</td>\n",
       "      <td>...</td>\n",
       "    </tr>\n",
       "    <tr>\n",
       "      <th>1404</th>\n",
       "      <td>delivered on time! and i am happy i bought thi...</td>\n",
       "      <td>5.0</td>\n",
       "      <td>great</td>\n",
       "    </tr>\n",
       "    <tr>\n",
       "      <th>1405</th>\n",
       "      <td>best phone as per expections...white colur is ...</td>\n",
       "      <td>5.0</td>\n",
       "      <td>great</td>\n",
       "    </tr>\n",
       "    <tr>\n",
       "      <th>1406</th>\n",
       "      <td>superb</td>\n",
       "      <td>5.0</td>\n",
       "      <td>great</td>\n",
       "    </tr>\n",
       "    <tr>\n",
       "      <th>1407</th>\n",
       "      <td>satisfactory</td>\n",
       "      <td>5.0</td>\n",
       "      <td>great</td>\n",
       "    </tr>\n",
       "    <tr>\n",
       "      <th>1408</th>\n",
       "      <td>best smartphone ever in this price</td>\n",
       "      <td>5.0</td>\n",
       "      <td>great</td>\n",
       "    </tr>\n",
       "  </tbody>\n",
       "</table>\n",
       "<p>1409 rows × 3 columns</p>\n",
       "</div>"
      ],
      "text/plain": [
       "                                                  title  rating  \\\n",
       "0                             kidney as a load balancer     4.0   \n",
       "1                                         worst battery     3.0   \n",
       "2       another fabulous iphone ( iphone 12, blue 64gb)     5.0   \n",
       "3     this phone is a joke and the joke is on us!!! ...     1.0   \n",
       "4                                             the beast     5.0   \n",
       "...                                                 ...     ...   \n",
       "1404  delivered on time! and i am happy i bought thi...     5.0   \n",
       "1405  best phone as per expections...white colur is ...     5.0   \n",
       "1406                                             superb     5.0   \n",
       "1407                                       satisfactory     5.0   \n",
       "1408                 best smartphone ever in this price     5.0   \n",
       "\n",
       "                                                reviews  \n",
       "0     sold kidney bought this, now not feeling well ...  \n",
       "1     worst battery performance.iphone 11 is far bet...  \n",
       "2     the media could not be loaded.\\n              ...  \n",
       "3     extremely disappointed with this phone. it’s a...  \n",
       "4     this was my first switch to an ios device afte...  \n",
       "...                                                 ...  \n",
       "1404                                              great  \n",
       "1405                                              great  \n",
       "1406                                              great  \n",
       "1407                                              great  \n",
       "1408                                              great  \n",
       "\n",
       "[1409 rows x 3 columns]"
      ]
     },
     "execution_count": 16,
     "metadata": {},
     "output_type": "execute_result"
    }
   ],
   "source": [
    "df = df.apply(lambda x: x.str.lower() if x.dtype=='object' else x)\n",
    "df"
   ]
  },
  {
   "cell_type": "code",
   "execution_count": 17,
   "id": "88a60fc4",
   "metadata": {},
   "outputs": [
    {
     "name": "stdout",
     "output_type": "stream",
     "text": [
      "!\"#$%&'()*+,-./:;<=>?@[\\]^_`{|}~\n"
     ]
    }
   ],
   "source": [
    "punct_to_remove = string.punctuation\n",
    "print(punct_to_remove)"
   ]
  },
  {
   "cell_type": "code",
   "execution_count": 18,
   "id": "acddab05",
   "metadata": {},
   "outputs": [],
   "source": [
    "#Function to remove punctuations\n",
    "def remove_punctuation(x):\n",
    "    return x.translate(str.maketrans(\"\",\"\", punct_to_remove))"
   ]
  },
  {
   "cell_type": "code",
   "execution_count": 19,
   "id": "84ee5735",
   "metadata": {},
   "outputs": [],
   "source": [
    "df['title'] = df['title'].apply(lambda x: remove_punctuation(x))\n",
    "df['reviews'] = df['reviews'].apply(lambda x: remove_punctuation(x))"
   ]
  },
  {
   "cell_type": "code",
   "execution_count": 20,
   "id": "2505b2a6",
   "metadata": {},
   "outputs": [
    {
     "data": {
      "text/html": [
       "<div>\n",
       "<style scoped>\n",
       "    .dataframe tbody tr th:only-of-type {\n",
       "        vertical-align: middle;\n",
       "    }\n",
       "\n",
       "    .dataframe tbody tr th {\n",
       "        vertical-align: top;\n",
       "    }\n",
       "\n",
       "    .dataframe thead th {\n",
       "        text-align: right;\n",
       "    }\n",
       "</style>\n",
       "<table border=\"1\" class=\"dataframe\">\n",
       "  <thead>\n",
       "    <tr style=\"text-align: right;\">\n",
       "      <th></th>\n",
       "      <th>title</th>\n",
       "      <th>rating</th>\n",
       "      <th>reviews</th>\n",
       "    </tr>\n",
       "  </thead>\n",
       "  <tbody>\n",
       "    <tr>\n",
       "      <th>0</th>\n",
       "      <td>kidney as a load balancer</td>\n",
       "      <td>4.0</td>\n",
       "      <td>sold kidney bought this now not feeling well b...</td>\n",
       "    </tr>\n",
       "    <tr>\n",
       "      <th>1</th>\n",
       "      <td>worst battery</td>\n",
       "      <td>3.0</td>\n",
       "      <td>worst battery performanceiphone 11 is far bett...</td>\n",
       "    </tr>\n",
       "    <tr>\n",
       "      <th>2</th>\n",
       "      <td>another fabulous iphone  iphone 12 blue 64gb</td>\n",
       "      <td>5.0</td>\n",
       "      <td>the media could not be loaded\\n               ...</td>\n",
       "    </tr>\n",
       "    <tr>\n",
       "      <th>3</th>\n",
       "      <td>this phone is a joke and the joke is on us don...</td>\n",
       "      <td>1.0</td>\n",
       "      <td>extremely disappointed with this phone it’s a ...</td>\n",
       "    </tr>\n",
       "    <tr>\n",
       "      <th>4</th>\n",
       "      <td>the beast</td>\n",
       "      <td>5.0</td>\n",
       "      <td>this was my first switch to an ios device afte...</td>\n",
       "    </tr>\n",
       "  </tbody>\n",
       "</table>\n",
       "</div>"
      ],
      "text/plain": [
       "                                               title  rating  \\\n",
       "0                          kidney as a load balancer     4.0   \n",
       "1                                      worst battery     3.0   \n",
       "2       another fabulous iphone  iphone 12 blue 64gb     5.0   \n",
       "3  this phone is a joke and the joke is on us don...     1.0   \n",
       "4                                          the beast     5.0   \n",
       "\n",
       "                                             reviews  \n",
       "0  sold kidney bought this now not feeling well b...  \n",
       "1  worst battery performanceiphone 11 is far bett...  \n",
       "2  the media could not be loaded\\n               ...  \n",
       "3  extremely disappointed with this phone it’s a ...  \n",
       "4  this was my first switch to an ios device afte...  "
      ]
     },
     "execution_count": 20,
     "metadata": {},
     "output_type": "execute_result"
    }
   ],
   "source": [
    "df.head()"
   ]
  },
  {
   "cell_type": "code",
   "execution_count": 21,
   "id": "b5daa1b3",
   "metadata": {},
   "outputs": [
    {
     "name": "stderr",
     "output_type": "stream",
     "text": [
      "[nltk_data] Downloading package stopwords to\n",
      "[nltk_data]     C:\\Users\\Riyaz\\AppData\\Roaming\\nltk_data...\n",
      "[nltk_data]   Package stopwords is already up-to-date!\n"
     ]
    },
    {
     "data": {
      "text/plain": [
       "True"
      ]
     },
     "execution_count": 21,
     "metadata": {},
     "output_type": "execute_result"
    }
   ],
   "source": [
    "nltk.download('stopwords')"
   ]
  },
  {
   "cell_type": "code",
   "execution_count": 22,
   "id": "1cdda046",
   "metadata": {},
   "outputs": [
    {
     "data": {
      "text/plain": [
       "\"i, me, my, myself, we, our, ours, ourselves, you, you're, you've, you'll, you'd, your, yours, yourself, yourselves, he, him, his, himself, she, she's, her, hers, herself, it, it's, its, itself, they, them, their, theirs, themselves, what, which, who, whom, this, that, that'll, these, those, am, is, are, was, were, be, been, being, have, has, had, having, do, does, did, doing, a, an, the, and, but, if, or, because, as, until, while, of, at, by, for, with, about, against, between, into, through, during, before, after, above, below, to, from, up, down, in, out, on, off, over, under, again, further, then, once, here, there, when, where, why, how, all, any, both, each, few, more, most, other, some, such, no, nor, not, only, own, same, so, than, too, very, s, t, can, will, just, don, don't, should, should've, now, d, ll, m, o, re, ve, y, ain, aren, aren't, couldn, couldn't, didn, didn't, doesn, doesn't, hadn, hadn't, hasn, hasn't, haven, haven't, isn, isn't, ma, mightn, mightn't, mustn, mustn't, needn, needn't, shan, shan't, shouldn, shouldn't, wasn, wasn't, weren, weren't, won, won't, wouldn, wouldn't\""
      ]
     },
     "execution_count": 22,
     "metadata": {},
     "output_type": "execute_result"
    }
   ],
   "source": [
    "from nltk.corpus import stopwords\n",
    "\", \".join(stopwords.words('english'))"
   ]
  },
  {
   "cell_type": "code",
   "execution_count": 23,
   "id": "9aca9191",
   "metadata": {},
   "outputs": [],
   "source": [
    "stopwords = set(stopwords.words('english'))\n",
    "def remove_stopwords(text):\n",
    "    return \" \".join([word for word in str(text).split() if word not in stopwords])"
   ]
  },
  {
   "cell_type": "code",
   "execution_count": 24,
   "id": "2fe6dc85",
   "metadata": {},
   "outputs": [],
   "source": [
    "df['title'] = df['title'].apply(lambda text: remove_stopwords(text))\n",
    "df['reviews'] = df['reviews'].apply(lambda text: remove_stopwords(text))"
   ]
  },
  {
   "cell_type": "code",
   "execution_count": 25,
   "id": "e08491a6",
   "metadata": {},
   "outputs": [
    {
     "data": {
      "text/html": [
       "<div>\n",
       "<style scoped>\n",
       "    .dataframe tbody tr th:only-of-type {\n",
       "        vertical-align: middle;\n",
       "    }\n",
       "\n",
       "    .dataframe tbody tr th {\n",
       "        vertical-align: top;\n",
       "    }\n",
       "\n",
       "    .dataframe thead th {\n",
       "        text-align: right;\n",
       "    }\n",
       "</style>\n",
       "<table border=\"1\" class=\"dataframe\">\n",
       "  <thead>\n",
       "    <tr style=\"text-align: right;\">\n",
       "      <th></th>\n",
       "      <th>title</th>\n",
       "      <th>rating</th>\n",
       "      <th>reviews</th>\n",
       "    </tr>\n",
       "  </thead>\n",
       "  <tbody>\n",
       "    <tr>\n",
       "      <th>0</th>\n",
       "      <td>kidney load balancer</td>\n",
       "      <td>4.0</td>\n",
       "      <td>sold kidney bought feeling well number days al...</td>\n",
       "    </tr>\n",
       "    <tr>\n",
       "      <th>1</th>\n",
       "      <td>worst battery</td>\n",
       "      <td>3.0</td>\n",
       "      <td>worst battery performanceiphone 11 far better ...</td>\n",
       "    </tr>\n",
       "    <tr>\n",
       "      <th>2</th>\n",
       "      <td>another fabulous iphone iphone 12 blue 64gb</td>\n",
       "      <td>5.0</td>\n",
       "      <td>media could loaded another beauty apple upgrad...</td>\n",
       "    </tr>\n",
       "    <tr>\n",
       "      <th>3</th>\n",
       "      <td>phone joke joke us don’t buy phone</td>\n",
       "      <td>1.0</td>\n",
       "      <td>extremely disappointed phone it’s seemingly av...</td>\n",
       "    </tr>\n",
       "    <tr>\n",
       "      <th>4</th>\n",
       "      <td>beast</td>\n",
       "      <td>5.0</td>\n",
       "      <td>first switch ios device using android untill d...</td>\n",
       "    </tr>\n",
       "    <tr>\n",
       "      <th>...</th>\n",
       "      <td>...</td>\n",
       "      <td>...</td>\n",
       "      <td>...</td>\n",
       "    </tr>\n",
       "    <tr>\n",
       "      <th>1404</th>\n",
       "      <td>delivered time happy bought it’s amazing phone</td>\n",
       "      <td>5.0</td>\n",
       "      <td>great</td>\n",
       "    </tr>\n",
       "    <tr>\n",
       "      <th>1405</th>\n",
       "      <td>best phone per expectionswhite colur amazing</td>\n",
       "      <td>5.0</td>\n",
       "      <td>great</td>\n",
       "    </tr>\n",
       "    <tr>\n",
       "      <th>1406</th>\n",
       "      <td>superb</td>\n",
       "      <td>5.0</td>\n",
       "      <td>great</td>\n",
       "    </tr>\n",
       "    <tr>\n",
       "      <th>1407</th>\n",
       "      <td>satisfactory</td>\n",
       "      <td>5.0</td>\n",
       "      <td>great</td>\n",
       "    </tr>\n",
       "    <tr>\n",
       "      <th>1408</th>\n",
       "      <td>best smartphone ever price</td>\n",
       "      <td>5.0</td>\n",
       "      <td>great</td>\n",
       "    </tr>\n",
       "  </tbody>\n",
       "</table>\n",
       "<p>1409 rows × 3 columns</p>\n",
       "</div>"
      ],
      "text/plain": [
       "                                               title  rating  \\\n",
       "0                               kidney load balancer     4.0   \n",
       "1                                      worst battery     3.0   \n",
       "2        another fabulous iphone iphone 12 blue 64gb     5.0   \n",
       "3                 phone joke joke us don’t buy phone     1.0   \n",
       "4                                              beast     5.0   \n",
       "...                                              ...     ...   \n",
       "1404  delivered time happy bought it’s amazing phone     5.0   \n",
       "1405    best phone per expectionswhite colur amazing     5.0   \n",
       "1406                                          superb     5.0   \n",
       "1407                                    satisfactory     5.0   \n",
       "1408                      best smartphone ever price     5.0   \n",
       "\n",
       "                                                reviews  \n",
       "0     sold kidney bought feeling well number days al...  \n",
       "1     worst battery performanceiphone 11 far better ...  \n",
       "2     media could loaded another beauty apple upgrad...  \n",
       "3     extremely disappointed phone it’s seemingly av...  \n",
       "4     first switch ios device using android untill d...  \n",
       "...                                                 ...  \n",
       "1404                                              great  \n",
       "1405                                              great  \n",
       "1406                                              great  \n",
       "1407                                              great  \n",
       "1408                                              great  \n",
       "\n",
       "[1409 rows x 3 columns]"
      ]
     },
     "execution_count": 25,
     "metadata": {},
     "output_type": "execute_result"
    }
   ],
   "source": [
    "df"
   ]
  },
  {
   "cell_type": "code",
   "execution_count": 26,
   "id": "8ed41102",
   "metadata": {},
   "outputs": [
    {
     "data": {
      "text/plain": [
       "[('phone', 217),\n",
       " ('iphone', 182),\n",
       " ('good', 167),\n",
       " ('best', 111),\n",
       " ('product', 105),\n",
       " ('awesome', 86),\n",
       " ('12', 74),\n",
       " ('apple', 69),\n",
       " ('great', 65),\n",
       " ('battery', 58)]"
      ]
     },
     "execution_count": 26,
     "metadata": {},
     "output_type": "execute_result"
    }
   ],
   "source": [
    "import seaborn as sns\n",
    "from collections import Counter\n",
    "cnt = Counter()\n",
    "for text in df['title'].values:\n",
    "    for word in text.split():\n",
    "        cnt[word]+=1\n",
    "        \n",
    "cnt.most_common(10)\n"
   ]
  },
  {
   "cell_type": "code",
   "execution_count": 27,
   "id": "bcc39084",
   "metadata": {},
   "outputs": [
    {
     "data": {
      "text/plain": [
       "<AxesSubplot:xlabel='rating', ylabel='count'>"
      ]
     },
     "execution_count": 27,
     "metadata": {},
     "output_type": "execute_result"
    },
    {
     "data": {
      "image/png": "[encoded data removed]",
      "text/plain": [
       "<Figure size 432x288 with 1 Axes>"
      ]
     },
     "metadata": {
      "needs_background": "light"
     },
     "output_type": "display_data"
    }
   ],
   "source": [
    "sns.countplot(x= 'rating', data = df)"
   ]
  },
  {
   "cell_type": "code",
   "execution_count": 28,
   "id": "343aa131",
   "metadata": {},
   "outputs": [
    {
     "name": "stderr",
     "output_type": "stream",
     "text": [
      "[nltk_data] Downloading package wordnet to\n",
      "[nltk_data]     C:\\Users\\Riyaz\\AppData\\Roaming\\nltk_data...\n",
      "[nltk_data]   Package wordnet is already up-to-date!\n"
     ]
    },
    {
     "data": {
      "text/plain": [
       "True"
      ]
     },
     "execution_count": 28,
     "metadata": {},
     "output_type": "execute_result"
    }
   ],
   "source": [
    "nltk.download('wordnet')"
   ]
  },
  {
   "cell_type": "code",
   "execution_count": 29,
   "id": "3d6e5613",
   "metadata": {},
   "outputs": [],
   "source": [
    "from nltk.corpus import wordnet\n",
    "from nltk.stem import WordNetLemmatizer\n",
    "\n",
    "lemmatizer = WordNetLemmatizer()\n",
    "wordnet_map = {\"N\":wordnet.NOUN, \"V\":wordnet.VERB, \"J\":wordnet.ADJ, \"R\":wordnet.ADV}\n",
    "def lemmatize_words(text):\n",
    "    pos_tagged_text = nltk.pos_tag(text.split())\n",
    "    return \" \".join([lemmatizer.lemmatize(word, wordnet_map.get(pos[0], wordnet.VERB)) for word, pos in pos_tagged_text])\n",
    "\n"
   ]
  },
  {
   "cell_type": "code",
   "execution_count": 30,
   "id": "346c546d",
   "metadata": {},
   "outputs": [
    {
     "data": {
      "text/html": [
       "<div>\n",
       "<style scoped>\n",
       "    .dataframe tbody tr th:only-of-type {\n",
       "        vertical-align: middle;\n",
       "    }\n",
       "\n",
       "    .dataframe tbody tr th {\n",
       "        vertical-align: top;\n",
       "    }\n",
       "\n",
       "    .dataframe thead th {\n",
       "        text-align: right;\n",
       "    }\n",
       "</style>\n",
       "<table border=\"1\" class=\"dataframe\">\n",
       "  <thead>\n",
       "    <tr style=\"text-align: right;\">\n",
       "      <th></th>\n",
       "      <th>title</th>\n",
       "      <th>rating</th>\n",
       "      <th>reviews</th>\n",
       "    </tr>\n",
       "  </thead>\n",
       "  <tbody>\n",
       "    <tr>\n",
       "      <th>0</th>\n",
       "      <td>kidney load balancer</td>\n",
       "      <td>4.0</td>\n",
       "      <td>sell kidney buy feel well number day alive one...</td>\n",
       "    </tr>\n",
       "    <tr>\n",
       "      <th>1</th>\n",
       "      <td>worst battery</td>\n",
       "      <td>3.0</td>\n",
       "      <td>worst battery performanceiphone 11 far good de...</td>\n",
       "    </tr>\n",
       "    <tr>\n",
       "      <th>2</th>\n",
       "      <td>another fabulous iphone iphone 12 blue 64gb</td>\n",
       "      <td>5.0</td>\n",
       "      <td>medium could load another beauty apple upgrade...</td>\n",
       "    </tr>\n",
       "    <tr>\n",
       "      <th>3</th>\n",
       "      <td>phone joke joke us don’t buy phone</td>\n",
       "      <td>1.0</td>\n",
       "      <td>extremely disappointed phone it’s seemingly av...</td>\n",
       "    </tr>\n",
       "    <tr>\n",
       "      <th>4</th>\n",
       "      <td>beast</td>\n",
       "      <td>5.0</td>\n",
       "      <td>first switch io device use android untill disa...</td>\n",
       "    </tr>\n",
       "    <tr>\n",
       "      <th>...</th>\n",
       "      <td>...</td>\n",
       "      <td>...</td>\n",
       "      <td>...</td>\n",
       "    </tr>\n",
       "    <tr>\n",
       "      <th>1404</th>\n",
       "      <td>delivered time happy buy it’s amaze phone</td>\n",
       "      <td>5.0</td>\n",
       "      <td>great</td>\n",
       "    </tr>\n",
       "    <tr>\n",
       "      <th>1405</th>\n",
       "      <td>best phone per expectionswhite colur amaze</td>\n",
       "      <td>5.0</td>\n",
       "      <td>great</td>\n",
       "    </tr>\n",
       "    <tr>\n",
       "      <th>1406</th>\n",
       "      <td>superb</td>\n",
       "      <td>5.0</td>\n",
       "      <td>great</td>\n",
       "    </tr>\n",
       "    <tr>\n",
       "      <th>1407</th>\n",
       "      <td>satisfactory</td>\n",
       "      <td>5.0</td>\n",
       "      <td>great</td>\n",
       "    </tr>\n",
       "    <tr>\n",
       "      <th>1408</th>\n",
       "      <td>best smartphone ever price</td>\n",
       "      <td>5.0</td>\n",
       "      <td>great</td>\n",
       "    </tr>\n",
       "  </tbody>\n",
       "</table>\n",
       "<p>1409 rows × 3 columns</p>\n",
       "</div>"
      ],
      "text/plain": [
       "                                            title  rating  \\\n",
       "0                            kidney load balancer     4.0   \n",
       "1                                   worst battery     3.0   \n",
       "2     another fabulous iphone iphone 12 blue 64gb     5.0   \n",
       "3              phone joke joke us don’t buy phone     1.0   \n",
       "4                                           beast     5.0   \n",
       "...                                           ...     ...   \n",
       "1404    delivered time happy buy it’s amaze phone     5.0   \n",
       "1405   best phone per expectionswhite colur amaze     5.0   \n",
       "1406                                       superb     5.0   \n",
       "1407                                 satisfactory     5.0   \n",
       "1408                   best smartphone ever price     5.0   \n",
       "\n",
       "                                                reviews  \n",
       "0     sell kidney buy feel well number day alive one...  \n",
       "1     worst battery performanceiphone 11 far good de...  \n",
       "2     medium could load another beauty apple upgrade...  \n",
       "3     extremely disappointed phone it’s seemingly av...  \n",
       "4     first switch io device use android untill disa...  \n",
       "...                                                 ...  \n",
       "1404                                              great  \n",
       "1405                                              great  \n",
       "1406                                              great  \n",
       "1407                                              great  \n",
       "1408                                              great  \n",
       "\n",
       "[1409 rows x 3 columns]"
      ]
     },
     "execution_count": 30,
     "metadata": {},
     "output_type": "execute_result"
    }
   ],
   "source": [
    "df[\"title\"] = df[\"title\"].apply(lambda text: lemmatize_words(text))\n",
    "df[\"reviews\"] = df[\"reviews\"].apply(lambda text: lemmatize_words(text))\n",
    "df"
   ]
  },
  {
   "cell_type": "code",
   "execution_count": 31,
   "id": "d73b0c37",
   "metadata": {},
   "outputs": [],
   "source": [
    "df['rating_u'] = df['rating'].apply(lambda x: 'good' if x>=4 else 'moderate' if x>=2 else 'bad' )"
   ]
  },
  {
   "cell_type": "code",
   "execution_count": 32,
   "id": "218e2ba6",
   "metadata": {},
   "outputs": [
    {
     "data": {
      "text/html": [
       "<div>\n",
       "<style scoped>\n",
       "    .dataframe tbody tr th:only-of-type {\n",
       "        vertical-align: middle;\n",
       "    }\n",
       "\n",
       "    .dataframe tbody tr th {\n",
       "        vertical-align: top;\n",
       "    }\n",
       "\n",
       "    .dataframe thead th {\n",
       "        text-align: right;\n",
       "    }\n",
       "</style>\n",
       "<table border=\"1\" class=\"dataframe\">\n",
       "  <thead>\n",
       "    <tr style=\"text-align: right;\">\n",
       "      <th></th>\n",
       "      <th>title</th>\n",
       "      <th>rating</th>\n",
       "      <th>reviews</th>\n",
       "      <th>rating_u</th>\n",
       "    </tr>\n",
       "  </thead>\n",
       "  <tbody>\n",
       "    <tr>\n",
       "      <th>0</th>\n",
       "      <td>kidney load balancer</td>\n",
       "      <td>4.0</td>\n",
       "      <td>sell kidney buy feel well number day alive one...</td>\n",
       "      <td>good</td>\n",
       "    </tr>\n",
       "    <tr>\n",
       "      <th>1</th>\n",
       "      <td>worst battery</td>\n",
       "      <td>3.0</td>\n",
       "      <td>worst battery performanceiphone 11 far good de...</td>\n",
       "      <td>moderate</td>\n",
       "    </tr>\n",
       "    <tr>\n",
       "      <th>2</th>\n",
       "      <td>another fabulous iphone iphone 12 blue 64gb</td>\n",
       "      <td>5.0</td>\n",
       "      <td>medium could load another beauty apple upgrade...</td>\n",
       "      <td>good</td>\n",
       "    </tr>\n",
       "    <tr>\n",
       "      <th>3</th>\n",
       "      <td>phone joke joke us don’t buy phone</td>\n",
       "      <td>1.0</td>\n",
       "      <td>extremely disappointed phone it’s seemingly av...</td>\n",
       "      <td>bad</td>\n",
       "    </tr>\n",
       "    <tr>\n",
       "      <th>4</th>\n",
       "      <td>beast</td>\n",
       "      <td>5.0</td>\n",
       "      <td>first switch io device use android untill disa...</td>\n",
       "      <td>good</td>\n",
       "    </tr>\n",
       "  </tbody>\n",
       "</table>\n",
       "</div>"
      ],
      "text/plain": [
       "                                         title  rating  \\\n",
       "0                         kidney load balancer     4.0   \n",
       "1                                worst battery     3.0   \n",
       "2  another fabulous iphone iphone 12 blue 64gb     5.0   \n",
       "3           phone joke joke us don’t buy phone     1.0   \n",
       "4                                        beast     5.0   \n",
       "\n",
       "                                             reviews  rating_u  \n",
       "0  sell kidney buy feel well number day alive one...      good  \n",
       "1  worst battery performanceiphone 11 far good de...  moderate  \n",
       "2  medium could load another beauty apple upgrade...      good  \n",
       "3  extremely disappointed phone it’s seemingly av...       bad  \n",
       "4  first switch io device use android untill disa...      good  "
      ]
     },
     "execution_count": 32,
     "metadata": {},
     "output_type": "execute_result"
    }
   ],
   "source": [
    "df.head()"
   ]
  },
  {
   "cell_type": "code",
   "execution_count": 33,
   "id": "5d55ef7a",
   "metadata": {},
   "outputs": [
    {
     "data": {
      "text/plain": [
       "good        1147\n",
       "bad          165\n",
       "moderate      97\n",
       "Name: rating_u, dtype: int64"
      ]
     },
     "execution_count": 33,
     "metadata": {},
     "output_type": "execute_result"
    }
   ],
   "source": [
    "df['rating_u'].value_counts()"
   ]
  },
  {
   "cell_type": "code",
   "execution_count": 34,
   "id": "a15bb21d",
   "metadata": {},
   "outputs": [
    {
     "data": {
      "text/plain": [
       "0        good\n",
       "1    moderate\n",
       "2        good\n",
       "3         bad\n",
       "4        good\n",
       "Name: rating_u, dtype: object"
      ]
     },
     "execution_count": 34,
     "metadata": {},
     "output_type": "execute_result"
    }
   ],
   "source": [
    "x = df[['title','reviews']]\n",
    "x.head()\n",
    "\n",
    "y = df['rating_u']\n",
    "y.head()"
   ]
  },
  {
   "cell_type": "code",
   "execution_count": 35,
   "id": "face8590",
   "metadata": {},
   "outputs": [],
   "source": [
    "headline = []\n",
    "for i in range(0,len(df.index)):\n",
    "    headline.append(' '.join(str(j) for j in x.iloc[i,:]))"
   ]
  },
  {
   "cell_type": "code",
   "execution_count": 36,
   "id": "5c0a9e9f",
   "metadata": {},
   "outputs": [
    {
     "name": "stdout",
     "output_type": "stream",
     "text": [
      "[[0. 0. 0. ... 0. 0. 0.]\n",
      " [0. 0. 0. ... 0. 0. 0.]\n",
      " [0. 0. 0. ... 0. 0. 0.]\n",
      " ...\n",
      " [0. 0. 0. ... 0. 0. 0.]\n",
      " [0. 0. 0. ... 0. 0. 0.]\n",
      " [0. 0. 0. ... 0. 0. 0.]]\n"
     ]
    }
   ],
   "source": [
    "from sklearn.feature_extraction.text import TfidfVectorizer\n",
    "vectorizer = TfidfVectorizer()\n",
    "x = vectorizer.fit_transform(headline)\n",
    "print(x.toarray())"
   ]
  },
  {
   "cell_type": "code",
   "execution_count": 37,
   "id": "f6cdd137",
   "metadata": {},
   "outputs": [],
   "source": [
    "from sklearn.model_selection import train_test_split\n",
    "x_train,x_test,y_train,y_test = train_test_split(x,y,test_size=0.2,random_state=40)"
   ]
  },
  {
   "cell_type": "code",
   "execution_count": 38,
   "id": "35ca45f6",
   "metadata": {},
   "outputs": [],
   "source": [
    "from sklearn.metrics import classification_report\n",
    "from sklearn.ensemble import RandomForestClassifier"
   ]
  },
  {
   "cell_type": "code",
   "execution_count": 39,
   "id": "b40c09d8",
   "metadata": {},
   "outputs": [
    {
     "name": "stdout",
     "output_type": "stream",
     "text": [
      "              precision    recall  f1-score   support\n",
      "\n",
      "         bad       0.82      0.35      0.49        26\n",
      "        good       0.87      1.00      0.93       237\n",
      "    moderate       0.00      0.00      0.00        19\n",
      "\n",
      "    accuracy                           0.87       282\n",
      "   macro avg       0.56      0.45      0.47       282\n",
      "weighted avg       0.81      0.87      0.83       282\n",
      "\n"
     ]
    },
    {
     "name": "stderr",
     "output_type": "stream",
     "text": [
      "D:\\Apps\\lib\\site-packages\\sklearn\\metrics\\_classification.py:1318: UndefinedMetricWarning: Precision and F-score are ill-defined and being set to 0.0 in labels with no predicted samples. Use `zero_division` parameter to control this behavior.\n",
      "  _warn_prf(average, modifier, msg_start, len(result))\n",
      "D:\\Apps\\lib\\site-packages\\sklearn\\metrics\\_classification.py:1318: UndefinedMetricWarning: Precision and F-score are ill-defined and being set to 0.0 in labels with no predicted samples. Use `zero_division` parameter to control this behavior.\n",
      "  _warn_prf(average, modifier, msg_start, len(result))\n",
      "D:\\Apps\\lib\\site-packages\\sklearn\\metrics\\_classification.py:1318: UndefinedMetricWarning: Precision and F-score are ill-defined and being set to 0.0 in labels with no predicted samples. Use `zero_division` parameter to control this behavior.\n",
      "  _warn_prf(average, modifier, msg_start, len(result))\n"
     ]
    }
   ],
   "source": [
    "# implement RandomForest Classifier\n",
    "\n",
    "randomclassifier=RandomForestClassifier(n_estimators=200,criterion='entropy')\n",
    "randomclassifier.fit(x_train,y_train)\n",
    "y_pred = randomclassifier.predict(x_test)\n",
    "print(classification_report(y_test,y_pred))"
   ]
  },
  {
   "cell_type": "code",
   "execution_count": 40,
   "id": "9f5a4df1",
   "metadata": {},
   "outputs": [
    {
     "name": "stdout",
     "output_type": "stream",
     "text": [
      "Training score:  0.9982253771073647\n",
      "Testing score:  0.8723404255319149\n"
     ]
    }
   ],
   "source": [
    "print(\"Training score: \", randomclassifier.score(x_train, y_train))\n",
    "print(\"Testing score: \", randomclassifier.score(x_test, y_test))"
   ]
  },
  {
   "cell_type": "code",
   "execution_count": 41,
   "id": "828f246f",
   "metadata": {},
   "outputs": [
    {
     "name": "stdout",
     "output_type": "stream",
     "text": [
      "[0.86879433 0.85460993 0.84397163 0.83333333 0.85765125]\n",
      "0.8516720930819515\n"
     ]
    }
   ],
   "source": [
    "#Cross_validation\n",
    "\n",
    "from sklearn.model_selection import cross_val_score\n",
    "scores = cross_val_score(randomclassifier, x, y, cv =5)\n",
    "print(scores)\n",
    "print(scores.mean())"
   ]
  },
  {
   "cell_type": "code",
   "execution_count": 42,
   "id": "efe7734b",
   "metadata": {},
   "outputs": [
    {
     "name": "stdout",
     "output_type": "stream",
     "text": [
      "0.012109163762853812\n"
     ]
    }
   ],
   "source": [
    "print(scores.std())"
   ]
  },
  {
   "cell_type": "code",
   "execution_count": 54,
   "id": "500077fc",
   "metadata": {},
   "outputs": [],
   "source": [
    "def get_clean(x):\n",
    "    x = x.lower()\n",
    "    x = remove_punctuation(x)\n",
    "    x = remove_stopwords(x)\n",
    "    x = lemmatize_words(x)\n",
    "    vec = vectorizer.transform([x])\n",
    "    pred = randomclassifier.predict(vec)\n",
    "    return pred"
   ]
  },
  {
   "cell_type": "code",
   "execution_count": 55,
   "id": "17f1bad8",
   "metadata": {},
   "outputs": [
    {
     "data": {
      "text/plain": [
       "array(['bad'], dtype=object)"
      ]
     },
     "execution_count": 55,
     "metadata": {},
     "output_type": "execute_result"
    }
   ],
   "source": [
    "get_clean('waste of money so do not buy it')"
   ]
  },
  {
   "cell_type": "code",
   "execution_count": 67,
   "id": "61ba0dc1",
   "metadata": {},
   "outputs": [],
   "source": []
  },
  {
   "cell_type": "code",
   "execution_count": 69,
   "id": "51cc8ccd",
   "metadata": {},
   "outputs": [
    {
     "data": {
      "text/plain": [
       "KMeans(max_iter=50, n_clusters=4)"
      ]
     },
     "execution_count": 69,
     "metadata": {},
     "output_type": "execute_result"
    }
   ],
   "source": [
    "from sklearn.cluster import KMeans\n",
    "kmeans = KMeans(n_clusters = 4, max_iter = 50)\n",
    "kmeans.fit(x)\n"
   ]
  },
  {
   "cell_type": "code",
   "execution_count": 72,
   "id": "4c85ab0d",
   "metadata": {},
   "outputs": [
    {
     "data": {
      "image/png": "[encoded data removed]",
      "text/plain": [
       "<Figure size 432x288 with 1 Axes>"
      ]
     },
     "metadata": {
      "needs_background": "light"
     },
     "output_type": "display_data"
    }
   ],
   "source": [
    "# find the appropriate cluster number\n",
    "ssd = []\n",
    "range_n_clusters = [2, 3, 4, 5, 6, 7, 8]\n",
    "for num_clusters in range_n_clusters:\n",
    "    kmeans = KMeans(n_clusters=num_clusters, max_iter=50)\n",
    "    kmeans.fit(x)\n",
    "    \n",
    "    ssd.append(kmeans.inertia_)\n",
    "    \n",
    "# plot the SSDs for each n_clusters\n",
    "plt.plot(ssd) \n",
    "plt.title('The Elbow Method')\n",
    "plt.xlabel('Number of clusters')\n",
    "plt.ylabel('WCSS')\n",
    "plt.show()\n"
   ]
  },
  {
   "cell_type": "code",
   "execution_count": 73,
   "id": "6b65e8c4",
   "metadata": {},
   "outputs": [
    {
     "name": "stdout",
     "output_type": "stream",
     "text": [
      "For n_clusters=2, the silhouette score is 0.011887480989381185\n",
      "For n_clusters=3, the silhouette score is 0.015058165253970248\n",
      "For n_clusters=4, the silhouette score is 0.020628169191373762\n",
      "For n_clusters=5, the silhouette score is 0.02168925077398247\n",
      "For n_clusters=6, the silhouette score is 0.025035536045404944\n",
      "For n_clusters=7, the silhouette score is 0.026640924644799797\n",
      "For n_clusters=8, the silhouette score is 0.028774909680098555\n"
     ]
    }
   ],
   "source": [
    "# Silhouette analysis\n",
    "from sklearn.metrics import silhouette_score\n",
    "range_n_clusters = [2, 3, 4, 5, 6, 7, 8]\n",
    "\n",
    "for num_clusters in range_n_clusters:\n",
    "    \n",
    "    # intialise kmeans\n",
    "    kmeans = KMeans(n_clusters=num_clusters, max_iter=50)\n",
    "    kmeans.fit(x)\n",
    "    \n",
    "    cluster_labels = kmeans.labels_\n",
    "    \n",
    "    # silhouette score\n",
    "    silhouette_avg = silhouette_score(x, cluster_labels)\n",
    "    print(\"For n_clusters={0}, the silhouette score is {1}\".format(num_clusters, silhouette_avg))\n"
   ]
  },
  {
   "cell_type": "code",
   "execution_count": null,
   "id": "4e134ce5",
   "metadata": {},
   "outputs": [],
   "source": []
  }
 ],
 "metadata": {
  "kernelspec": {
   "display_name": "Python 3",
   "language": "python",
   "name": "python3"
  },
  "language_info": {
   "codemirror_mode": {
    "name": "ipython",
    "version": 3
   },
   "file_extension": ".py",
   "mimetype": "text/x-python",
   "name": "python",
   "nbconvert_exporter": "python",
   "pygments_lexer": "ipython3",
   "version": "3.8.8"
  }
 },
 "nbformat": 4,
 "nbformat_minor": 5
}
